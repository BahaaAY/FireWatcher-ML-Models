{
 "cells": [
  {
   "cell_type": "code",
   "execution_count": 341,
   "metadata": {},
   "outputs": [
    {
     "data": {
      "text/html": [
       "<div>\n",
       "<style scoped>\n",
       "    .dataframe tbody tr th:only-of-type {\n",
       "        vertical-align: middle;\n",
       "    }\n",
       "\n",
       "    .dataframe tbody tr th {\n",
       "        vertical-align: top;\n",
       "    }\n",
       "\n",
       "    .dataframe thead th {\n",
       "        text-align: right;\n",
       "    }\n",
       "</style>\n",
       "<table border=\"1\" class=\"dataframe\">\n",
       "  <thead>\n",
       "    <tr style=\"text-align: right;\">\n",
       "      <th></th>\n",
       "      <th>X</th>\n",
       "      <th>Y</th>\n",
       "      <th>month</th>\n",
       "      <th>day</th>\n",
       "      <th>FFMC</th>\n",
       "      <th>DMC</th>\n",
       "      <th>DC</th>\n",
       "      <th>ISI</th>\n",
       "      <th>temp</th>\n",
       "      <th>RH</th>\n",
       "      <th>wind</th>\n",
       "      <th>rain</th>\n",
       "      <th>area</th>\n",
       "    </tr>\n",
       "  </thead>\n",
       "  <tbody>\n",
       "    <tr>\n",
       "      <th>0</th>\n",
       "      <td>7</td>\n",
       "      <td>5</td>\n",
       "      <td>mar</td>\n",
       "      <td>fri</td>\n",
       "      <td>86.2</td>\n",
       "      <td>26.2</td>\n",
       "      <td>94.3</td>\n",
       "      <td>5.1</td>\n",
       "      <td>8.2</td>\n",
       "      <td>51</td>\n",
       "      <td>6.7</td>\n",
       "      <td>0.0</td>\n",
       "      <td>0.0</td>\n",
       "    </tr>\n",
       "    <tr>\n",
       "      <th>1</th>\n",
       "      <td>7</td>\n",
       "      <td>4</td>\n",
       "      <td>oct</td>\n",
       "      <td>tue</td>\n",
       "      <td>90.6</td>\n",
       "      <td>35.4</td>\n",
       "      <td>669.1</td>\n",
       "      <td>6.7</td>\n",
       "      <td>18.0</td>\n",
       "      <td>33</td>\n",
       "      <td>0.9</td>\n",
       "      <td>0.0</td>\n",
       "      <td>0.0</td>\n",
       "    </tr>\n",
       "    <tr>\n",
       "      <th>2</th>\n",
       "      <td>7</td>\n",
       "      <td>4</td>\n",
       "      <td>oct</td>\n",
       "      <td>sat</td>\n",
       "      <td>90.6</td>\n",
       "      <td>43.7</td>\n",
       "      <td>686.9</td>\n",
       "      <td>6.7</td>\n",
       "      <td>14.6</td>\n",
       "      <td>33</td>\n",
       "      <td>1.3</td>\n",
       "      <td>0.0</td>\n",
       "      <td>0.0</td>\n",
       "    </tr>\n",
       "    <tr>\n",
       "      <th>3</th>\n",
       "      <td>8</td>\n",
       "      <td>6</td>\n",
       "      <td>mar</td>\n",
       "      <td>fri</td>\n",
       "      <td>91.7</td>\n",
       "      <td>33.3</td>\n",
       "      <td>77.5</td>\n",
       "      <td>9.0</td>\n",
       "      <td>8.3</td>\n",
       "      <td>97</td>\n",
       "      <td>4.0</td>\n",
       "      <td>0.2</td>\n",
       "      <td>0.0</td>\n",
       "    </tr>\n",
       "    <tr>\n",
       "      <th>4</th>\n",
       "      <td>8</td>\n",
       "      <td>6</td>\n",
       "      <td>mar</td>\n",
       "      <td>sun</td>\n",
       "      <td>89.3</td>\n",
       "      <td>51.3</td>\n",
       "      <td>102.2</td>\n",
       "      <td>9.6</td>\n",
       "      <td>11.4</td>\n",
       "      <td>99</td>\n",
       "      <td>1.8</td>\n",
       "      <td>0.0</td>\n",
       "      <td>0.0</td>\n",
       "    </tr>\n",
       "  </tbody>\n",
       "</table>\n",
       "</div>"
      ],
      "text/plain": [
       "   X  Y month  day  FFMC   DMC     DC  ISI  temp  RH  wind  rain  area\n",
       "0  7  5   mar  fri  86.2  26.2   94.3  5.1   8.2  51   6.7   0.0   0.0\n",
       "1  7  4   oct  tue  90.6  35.4  669.1  6.7  18.0  33   0.9   0.0   0.0\n",
       "2  7  4   oct  sat  90.6  43.7  686.9  6.7  14.6  33   1.3   0.0   0.0\n",
       "3  8  6   mar  fri  91.7  33.3   77.5  9.0   8.3  97   4.0   0.2   0.0\n",
       "4  8  6   mar  sun  89.3  51.3  102.2  9.6  11.4  99   1.8   0.0   0.0"
      ]
     },
     "execution_count": 341,
     "metadata": {},
     "output_type": "execute_result"
    }
   ],
   "source": [
    "import numpy as np\n",
    "import pandas as pd\n",
    "import matplotlib.pyplot as plt\n",
    "import seaborn as sns\n",
    "\n",
    "# import dataset csv file\n",
    "df = pd.read_csv('../datasets/forestfires.csv')\n",
    "\n",
    "df.head()"
   ]
  },
  {
   "cell_type": "code",
   "execution_count": 342,
   "metadata": {},
   "outputs": [
    {
     "data": {
      "text/html": [
       "<div>\n",
       "<style scoped>\n",
       "    .dataframe tbody tr th:only-of-type {\n",
       "        vertical-align: middle;\n",
       "    }\n",
       "\n",
       "    .dataframe tbody tr th {\n",
       "        vertical-align: top;\n",
       "    }\n",
       "\n",
       "    .dataframe thead th {\n",
       "        text-align: right;\n",
       "    }\n",
       "</style>\n",
       "<table border=\"1\" class=\"dataframe\">\n",
       "  <thead>\n",
       "    <tr style=\"text-align: right;\">\n",
       "      <th></th>\n",
       "      <th>month</th>\n",
       "      <th>day</th>\n",
       "      <th>FFMC</th>\n",
       "      <th>DMC</th>\n",
       "      <th>DC</th>\n",
       "      <th>ISI</th>\n",
       "      <th>temp</th>\n",
       "      <th>RH</th>\n",
       "      <th>wind</th>\n",
       "      <th>rain</th>\n",
       "      <th>area</th>\n",
       "    </tr>\n",
       "  </thead>\n",
       "  <tbody>\n",
       "    <tr>\n",
       "      <th>0</th>\n",
       "      <td>mar</td>\n",
       "      <td>fri</td>\n",
       "      <td>86.2</td>\n",
       "      <td>26.2</td>\n",
       "      <td>94.3</td>\n",
       "      <td>5.1</td>\n",
       "      <td>8.2</td>\n",
       "      <td>51</td>\n",
       "      <td>6.7</td>\n",
       "      <td>0.0</td>\n",
       "      <td>0.0</td>\n",
       "    </tr>\n",
       "    <tr>\n",
       "      <th>1</th>\n",
       "      <td>oct</td>\n",
       "      <td>tue</td>\n",
       "      <td>90.6</td>\n",
       "      <td>35.4</td>\n",
       "      <td>669.1</td>\n",
       "      <td>6.7</td>\n",
       "      <td>18.0</td>\n",
       "      <td>33</td>\n",
       "      <td>0.9</td>\n",
       "      <td>0.0</td>\n",
       "      <td>0.0</td>\n",
       "    </tr>\n",
       "    <tr>\n",
       "      <th>2</th>\n",
       "      <td>oct</td>\n",
       "      <td>sat</td>\n",
       "      <td>90.6</td>\n",
       "      <td>43.7</td>\n",
       "      <td>686.9</td>\n",
       "      <td>6.7</td>\n",
       "      <td>14.6</td>\n",
       "      <td>33</td>\n",
       "      <td>1.3</td>\n",
       "      <td>0.0</td>\n",
       "      <td>0.0</td>\n",
       "    </tr>\n",
       "    <tr>\n",
       "      <th>3</th>\n",
       "      <td>mar</td>\n",
       "      <td>fri</td>\n",
       "      <td>91.7</td>\n",
       "      <td>33.3</td>\n",
       "      <td>77.5</td>\n",
       "      <td>9.0</td>\n",
       "      <td>8.3</td>\n",
       "      <td>97</td>\n",
       "      <td>4.0</td>\n",
       "      <td>0.2</td>\n",
       "      <td>0.0</td>\n",
       "    </tr>\n",
       "    <tr>\n",
       "      <th>4</th>\n",
       "      <td>mar</td>\n",
       "      <td>sun</td>\n",
       "      <td>89.3</td>\n",
       "      <td>51.3</td>\n",
       "      <td>102.2</td>\n",
       "      <td>9.6</td>\n",
       "      <td>11.4</td>\n",
       "      <td>99</td>\n",
       "      <td>1.8</td>\n",
       "      <td>0.0</td>\n",
       "      <td>0.0</td>\n",
       "    </tr>\n",
       "  </tbody>\n",
       "</table>\n",
       "</div>"
      ],
      "text/plain": [
       "  month  day  FFMC   DMC     DC  ISI  temp  RH  wind  rain  area\n",
       "0   mar  fri  86.2  26.2   94.3  5.1   8.2  51   6.7   0.0   0.0\n",
       "1   oct  tue  90.6  35.4  669.1  6.7  18.0  33   0.9   0.0   0.0\n",
       "2   oct  sat  90.6  43.7  686.9  6.7  14.6  33   1.3   0.0   0.0\n",
       "3   mar  fri  91.7  33.3   77.5  9.0   8.3  97   4.0   0.2   0.0\n",
       "4   mar  sun  89.3  51.3  102.2  9.6  11.4  99   1.8   0.0   0.0"
      ]
     },
     "execution_count": 342,
     "metadata": {},
     "output_type": "execute_result"
    }
   ],
   "source": [
    "# Drop x and y columns\n",
    "df.drop(['X', 'Y'], axis=1, inplace=True)\n",
    "\n",
    "df.head()"
   ]
  },
  {
   "cell_type": "code",
   "execution_count": 343,
   "metadata": {},
   "outputs": [
    {
     "data": {
      "text/plain": [
       "month\n",
       "aug    184\n",
       "sep    172\n",
       "mar     54\n",
       "jul     32\n",
       "feb     20\n",
       "jun     17\n",
       "oct     15\n",
       "apr      9\n",
       "dec      9\n",
       "jan      2\n",
       "may      2\n",
       "nov      1\n",
       "Name: count, dtype: int64"
      ]
     },
     "execution_count": 343,
     "metadata": {},
     "output_type": "execute_result"
    }
   ],
   "source": [
    "# Start PreProcessing\n",
    "# Starting with Month Column\n",
    "df['month'].value_counts()"
   ]
  },
  {
   "cell_type": "code",
   "execution_count": 344,
   "metadata": {},
   "outputs": [
    {
     "data": {
      "text/plain": [
       "month\n",
       "8     184\n",
       "9     172\n",
       "3      54\n",
       "7      32\n",
       "2      20\n",
       "6      17\n",
       "10     15\n",
       "4       9\n",
       "12      9\n",
       "1       2\n",
       "5       2\n",
       "11      1\n",
       "Name: count, dtype: int64"
      ]
     },
     "execution_count": 344,
     "metadata": {},
     "output_type": "execute_result"
    }
   ],
   "source": [
    "# Convert month to numerical values but leave the already numerical values\n",
    "df['month'] = df['month'].map({'jan': 1, 'feb': 2, 'mar': 3, 'apr': 4, 'may': 5, 'jun': 6, 'jul': 7, 'aug': 8, 'sep': 9, 'oct': 10, 'nov': 11, 'dec': 12, '1': 1, '2': 2, '3': 3, '4': 4, '5': 5, '6': 6, '7': 7, '8': 8, '9': 9, '10': 10, '11': 11, '12': 12})\n",
    "\n",
    "df['month'].value_counts()\n",
    "\n"
   ]
  },
  {
   "cell_type": "code",
   "execution_count": 345,
   "metadata": {},
   "outputs": [
    {
     "data": {
      "text/html": [
       "<div>\n",
       "<style scoped>\n",
       "    .dataframe tbody tr th:only-of-type {\n",
       "        vertical-align: middle;\n",
       "    }\n",
       "\n",
       "    .dataframe tbody tr th {\n",
       "        vertical-align: top;\n",
       "    }\n",
       "\n",
       "    .dataframe thead th {\n",
       "        text-align: right;\n",
       "    }\n",
       "</style>\n",
       "<table border=\"1\" class=\"dataframe\">\n",
       "  <thead>\n",
       "    <tr style=\"text-align: right;\">\n",
       "      <th></th>\n",
       "      <th>month</th>\n",
       "      <th>FFMC</th>\n",
       "      <th>DMC</th>\n",
       "      <th>DC</th>\n",
       "      <th>ISI</th>\n",
       "      <th>temp</th>\n",
       "      <th>RH</th>\n",
       "      <th>wind</th>\n",
       "      <th>rain</th>\n",
       "      <th>area</th>\n",
       "    </tr>\n",
       "  </thead>\n",
       "  <tbody>\n",
       "    <tr>\n",
       "      <th>0</th>\n",
       "      <td>3</td>\n",
       "      <td>86.2</td>\n",
       "      <td>26.2</td>\n",
       "      <td>94.3</td>\n",
       "      <td>5.1</td>\n",
       "      <td>8.2</td>\n",
       "      <td>51</td>\n",
       "      <td>6.7</td>\n",
       "      <td>0.0</td>\n",
       "      <td>0.0</td>\n",
       "    </tr>\n",
       "    <tr>\n",
       "      <th>1</th>\n",
       "      <td>10</td>\n",
       "      <td>90.6</td>\n",
       "      <td>35.4</td>\n",
       "      <td>669.1</td>\n",
       "      <td>6.7</td>\n",
       "      <td>18.0</td>\n",
       "      <td>33</td>\n",
       "      <td>0.9</td>\n",
       "      <td>0.0</td>\n",
       "      <td>0.0</td>\n",
       "    </tr>\n",
       "    <tr>\n",
       "      <th>2</th>\n",
       "      <td>10</td>\n",
       "      <td>90.6</td>\n",
       "      <td>43.7</td>\n",
       "      <td>686.9</td>\n",
       "      <td>6.7</td>\n",
       "      <td>14.6</td>\n",
       "      <td>33</td>\n",
       "      <td>1.3</td>\n",
       "      <td>0.0</td>\n",
       "      <td>0.0</td>\n",
       "    </tr>\n",
       "    <tr>\n",
       "      <th>3</th>\n",
       "      <td>3</td>\n",
       "      <td>91.7</td>\n",
       "      <td>33.3</td>\n",
       "      <td>77.5</td>\n",
       "      <td>9.0</td>\n",
       "      <td>8.3</td>\n",
       "      <td>97</td>\n",
       "      <td>4.0</td>\n",
       "      <td>0.2</td>\n",
       "      <td>0.0</td>\n",
       "    </tr>\n",
       "    <tr>\n",
       "      <th>4</th>\n",
       "      <td>3</td>\n",
       "      <td>89.3</td>\n",
       "      <td>51.3</td>\n",
       "      <td>102.2</td>\n",
       "      <td>9.6</td>\n",
       "      <td>11.4</td>\n",
       "      <td>99</td>\n",
       "      <td>1.8</td>\n",
       "      <td>0.0</td>\n",
       "      <td>0.0</td>\n",
       "    </tr>\n",
       "  </tbody>\n",
       "</table>\n",
       "</div>"
      ],
      "text/plain": [
       "   month  FFMC   DMC     DC  ISI  temp  RH  wind  rain  area\n",
       "0      3  86.2  26.2   94.3  5.1   8.2  51   6.7   0.0   0.0\n",
       "1     10  90.6  35.4  669.1  6.7  18.0  33   0.9   0.0   0.0\n",
       "2     10  90.6  43.7  686.9  6.7  14.6  33   1.3   0.0   0.0\n",
       "3      3  91.7  33.3   77.5  9.0   8.3  97   4.0   0.2   0.0\n",
       "4      3  89.3  51.3  102.2  9.6  11.4  99   1.8   0.0   0.0"
      ]
     },
     "execution_count": 345,
     "metadata": {},
     "output_type": "execute_result"
    }
   ],
   "source": [
    "# Now drop the day column\n",
    "df.drop(['day'], axis=1, inplace=True)\n",
    "df.head()"
   ]
  },
  {
   "cell_type": "code",
   "execution_count": 346,
   "metadata": {},
   "outputs": [
    {
     "data": {
      "text/plain": [
       "(517, 10)"
      ]
     },
     "execution_count": 346,
     "metadata": {},
     "output_type": "execute_result"
    }
   ],
   "source": [
    "# check rows count\n",
    "\n",
    "df.shape"
   ]
  },
  {
   "cell_type": "code",
   "execution_count": 347,
   "metadata": {},
   "outputs": [
    {
     "data": {
      "text/plain": [
       "(497, 10)"
      ]
     },
     "execution_count": 347,
     "metadata": {},
     "output_type": "execute_result"
    }
   ],
   "source": [
    "# drop the rows with feb month\n",
    "\n",
    "df = df[df['month'] != 2]\n",
    "\n",
    "df.shape"
   ]
  },
  {
   "cell_type": "code",
   "execution_count": 348,
   "metadata": {},
   "outputs": [
    {
     "data": {
      "text/plain": [
       "area\n",
       "0.00      237\n",
       "1.94        3\n",
       "0.52        2\n",
       "6.43        2\n",
       "0.68        2\n",
       "         ... \n",
       "103.39      1\n",
       "105.66      1\n",
       "154.88      1\n",
       "196.48      1\n",
       "11.16       1\n",
       "Name: count, Length: 243, dtype: int64"
      ]
     },
     "execution_count": 348,
     "metadata": {},
     "output_type": "execute_result"
    }
   ],
   "source": [
    "# lets check the unique values in the area column\n",
    "df['area'].value_counts()"
   ]
  },
  {
   "cell_type": "code",
   "execution_count": 349,
   "metadata": {},
   "outputs": [
    {
     "data": {
      "text/html": [
       "<div>\n",
       "<style scoped>\n",
       "    .dataframe tbody tr th:only-of-type {\n",
       "        vertical-align: middle;\n",
       "    }\n",
       "\n",
       "    .dataframe tbody tr th {\n",
       "        vertical-align: top;\n",
       "    }\n",
       "\n",
       "    .dataframe thead th {\n",
       "        text-align: right;\n",
       "    }\n",
       "</style>\n",
       "<table border=\"1\" class=\"dataframe\">\n",
       "  <thead>\n",
       "    <tr style=\"text-align: right;\">\n",
       "      <th></th>\n",
       "      <th>month</th>\n",
       "      <th>FFMC</th>\n",
       "      <th>DMC</th>\n",
       "      <th>DC</th>\n",
       "      <th>ISI</th>\n",
       "      <th>temp</th>\n",
       "      <th>RH</th>\n",
       "      <th>wind</th>\n",
       "      <th>rain</th>\n",
       "      <th>Fire</th>\n",
       "    </tr>\n",
       "  </thead>\n",
       "  <tbody>\n",
       "    <tr>\n",
       "      <th>0</th>\n",
       "      <td>3</td>\n",
       "      <td>86.2</td>\n",
       "      <td>26.2</td>\n",
       "      <td>94.3</td>\n",
       "      <td>5.1</td>\n",
       "      <td>8.2</td>\n",
       "      <td>51</td>\n",
       "      <td>6.7</td>\n",
       "      <td>0.0</td>\n",
       "      <td>0</td>\n",
       "    </tr>\n",
       "    <tr>\n",
       "      <th>1</th>\n",
       "      <td>10</td>\n",
       "      <td>90.6</td>\n",
       "      <td>35.4</td>\n",
       "      <td>669.1</td>\n",
       "      <td>6.7</td>\n",
       "      <td>18.0</td>\n",
       "      <td>33</td>\n",
       "      <td>0.9</td>\n",
       "      <td>0.0</td>\n",
       "      <td>0</td>\n",
       "    </tr>\n",
       "    <tr>\n",
       "      <th>2</th>\n",
       "      <td>10</td>\n",
       "      <td>90.6</td>\n",
       "      <td>43.7</td>\n",
       "      <td>686.9</td>\n",
       "      <td>6.7</td>\n",
       "      <td>14.6</td>\n",
       "      <td>33</td>\n",
       "      <td>1.3</td>\n",
       "      <td>0.0</td>\n",
       "      <td>0</td>\n",
       "    </tr>\n",
       "    <tr>\n",
       "      <th>3</th>\n",
       "      <td>3</td>\n",
       "      <td>91.7</td>\n",
       "      <td>33.3</td>\n",
       "      <td>77.5</td>\n",
       "      <td>9.0</td>\n",
       "      <td>8.3</td>\n",
       "      <td>97</td>\n",
       "      <td>4.0</td>\n",
       "      <td>0.2</td>\n",
       "      <td>0</td>\n",
       "    </tr>\n",
       "    <tr>\n",
       "      <th>4</th>\n",
       "      <td>3</td>\n",
       "      <td>89.3</td>\n",
       "      <td>51.3</td>\n",
       "      <td>102.2</td>\n",
       "      <td>9.6</td>\n",
       "      <td>11.4</td>\n",
       "      <td>99</td>\n",
       "      <td>1.8</td>\n",
       "      <td>0.0</td>\n",
       "      <td>0</td>\n",
       "    </tr>\n",
       "  </tbody>\n",
       "</table>\n",
       "</div>"
      ],
      "text/plain": [
       "   month  FFMC   DMC     DC  ISI  temp  RH  wind  rain  Fire\n",
       "0      3  86.2  26.2   94.3  5.1   8.2  51   6.7   0.0     0\n",
       "1     10  90.6  35.4  669.1  6.7  18.0  33   0.9   0.0     0\n",
       "2     10  90.6  43.7  686.9  6.7  14.6  33   1.3   0.0     0\n",
       "3      3  91.7  33.3   77.5  9.0   8.3  97   4.0   0.2     0\n",
       "4      3  89.3  51.3  102.2  9.6  11.4  99   1.8   0.0     0"
      ]
     },
     "execution_count": 349,
     "metadata": {},
     "output_type": "execute_result"
    }
   ],
   "source": [
    "# Convert Area that is >3 to 1 and <=3 to 0 also the fire class to 1 and not fire class to 0 \n",
    "\n",
    "# Mapping function to convert values\n",
    "def convert_value(value):\n",
    "    value = str(value).strip()  # Stripping spaces\n",
    "    \n",
    "    if ((float(value)) >3):\n",
    "        return 1 \n",
    "    else:\n",
    "        return 0\n",
    "# Applying the mapping function to the 'area' column\n",
    "df['area'] = df['area'].apply(convert_value)\n",
    "\n",
    "df['area'].value_counts(dropna=False, )\n",
    "\n",
    "# rename the area column to fire\n",
    "\n",
    "df.rename(columns={'area': 'Fire'}, inplace=True)\n",
    "\n",
    "df.head()\n",
    "\n",
    "\n"
   ]
  },
  {
   "cell_type": "code",
   "execution_count": 350,
   "metadata": {},
   "outputs": [
    {
     "data": {
      "text/plain": [
       "Fire\n",
       "0    323\n",
       "1    174\n",
       "Name: count, dtype: int64"
      ]
     },
     "execution_count": 350,
     "metadata": {},
     "output_type": "execute_result"
    }
   ],
   "source": [
    "df['Fire'].value_counts()\n",
    "\n",
    "\n",
    "\n"
   ]
  },
  {
   "cell_type": "code",
   "execution_count": 351,
   "metadata": {},
   "outputs": [
    {
     "data": {
      "image/png": "[encoded data removed]",
      "text/plain": [
       "<Figure size 1000x600 with 1 Axes>"
      ]
     },
     "metadata": {},
     "output_type": "display_data"
    }
   ],
   "source": [
    "# generate piechart for fire column\n",
    "\n",
    "plt.figure(figsize=(10, 6))\n",
    "\n",
    "df['Fire'].value_counts().plot.pie(autopct='%1.1f%%', colors=['red', 'green'], startangle=90, labels=['Not Fire', 'Fire'])\n",
    "\n",
    "plt.title('Fire Distribution')\n",
    "plt.show()\n"
   ]
  },
  {
   "cell_type": "code",
   "execution_count": 352,
   "metadata": {},
   "outputs": [
    {
     "data": {
      "text/plain": [
       "<Figure size 1000x600 with 0 Axes>"
      ]
     },
     "metadata": {},
     "output_type": "display_data"
    },
    {
     "data": {
      "image/png": "[encoded data removed]",
      "text/plain": [
       "<Figure size 500x500 with 1 Axes>"
      ]
     },
     "metadata": {},
     "output_type": "display_data"
    },
    {
     "name": "stdout",
     "output_type": "stream",
     "text": [
      "count    497.000000\n",
      "mean      90.956137\n",
      "std        5.320063\n",
      "min       18.700000\n",
      "25%       90.500000\n",
      "50%       91.700000\n",
      "75%       92.900000\n",
      "max       96.200000\n",
      "Name: FFMC, dtype: float64\n",
      "Skewness: -7.5056164995771075\n"
     ]
    }
   ],
   "source": [
    "# Now lets check FFMC column\n",
    "# plot the FFMC column\n",
    "plt.figure(figsize=(10, 6))\n",
    "sns.displot(df['FFMC'], bins=20,kde=True, color='blue')\n",
    "plt.title('FFMC Distribution')\n",
    "plt.show()\n",
    "\n",
    "# describe the FFMC column\n",
    "print(df['FFMC'].describe())\n",
    "\n",
    "\n",
    "# Check the Skweness of the FFMC column\n",
    "\n",
    "print('Skewness:', df['FFMC'].skew())\n"
   ]
  },
  {
   "cell_type": "code",
   "execution_count": 353,
   "metadata": {},
   "outputs": [
    {
     "data": {
      "text/plain": [
       "<Figure size 1000x600 with 0 Axes>"
      ]
     },
     "metadata": {},
     "output_type": "display_data"
    },
    {
     "data": {
      "image/png": "[encoded data removed]",
      "text/plain": [
       "<Figure size 500x500 with 1 Axes>"
      ]
     },
     "metadata": {},
     "output_type": "display_data"
    },
    {
     "name": "stdout",
     "output_type": "stream",
     "text": [
      "Skewness: 0.6110715085806397\n"
     ]
    }
   ],
   "source": [
    "\n",
    "##No Big Skew in the FFMC column\n",
    "#lets check the Distribution of the DMC column\n",
    "plt.figure(figsize=(10, 6))\n",
    "sns.displot(df['DMC'], bins=20,kde=True, color='blue')\n",
    "plt.title('DMC Distribution')\n",
    "plt.show()\n",
    "\n",
    "\n",
    "# Check the Skweness of the FFMC column\n",
    "\n",
    "print('Skewness:', df['DMC'].skew())\n"
   ]
  },
  {
   "cell_type": "code",
   "execution_count": 354,
   "metadata": {},
   "outputs": [
    {
     "data": {
      "text/plain": [
       "<Figure size 1000x600 with 0 Axes>"
      ]
     },
     "metadata": {},
     "output_type": "display_data"
    },
    {
     "data": {
      "image/png": "[encoded data removed]",
      "text/plain": [
       "<Figure size 500x500 with 1 Axes>"
      ]
     },
     "metadata": {},
     "output_type": "display_data"
    },
    {
     "name": "stdout",
     "output_type": "stream",
     "text": [
      "count    497.00000\n",
      "mean     567.78994\n",
      "std      231.53745\n",
      "min        7.90000\n",
      "25%      480.80000\n",
      "50%      665.60000\n",
      "75%      715.10000\n",
      "max      860.60000\n",
      "Name: DC, dtype: float64\n",
      "Skewness: -1.255579067125182\n"
     ]
    }
   ],
   "source": [
    "\n",
    "#lets check the Distribution of the DC column\n",
    "plt.figure(figsize=(10, 6))\n",
    "sns.displot(df['DC'], bins=20,kde=True, color='blue')\n",
    "plt.title('DC Distribution')\n",
    "plt.show()\n",
    "\n",
    "\n",
    "#Describe the DC column\n",
    "print(df['DC'].describe())\n",
    "\n",
    "# Check the Skweness of the DC column\n",
    "\n",
    "print('Skewness:', df['DC'].skew())\n"
   ]
  },
  {
   "cell_type": "code",
   "execution_count": 355,
   "metadata": {},
   "outputs": [
    {
     "data": {
      "text/plain": [
       "<Figure size 1000x600 with 0 Axes>"
      ]
     },
     "metadata": {},
     "output_type": "display_data"
    },
    {
     "data": {
      "image/png": "[encoded data removed]",
      "text/plain": [
       "<Figure size 500x500 with 1 Axes>"
      ]
     },
     "metadata": {},
     "output_type": "display_data"
    },
    {
     "name": "stdout",
     "output_type": "stream",
     "text": [
      "count    497.000000\n",
      "mean       9.249899\n",
      "std        4.490784\n",
      "min        0.000000\n",
      "25%        6.800000\n",
      "50%        8.500000\n",
      "75%       11.000000\n",
      "max       56.100000\n",
      "Name: ISI, dtype: float64\n",
      "Skewness: 2.7091589204205024\n"
     ]
    },
    {
     "data": {
      "text/plain": [
       "<Figure size 1000x600 with 0 Axes>"
      ]
     },
     "metadata": {},
     "output_type": "display_data"
    },
    {
     "data": {
      "image/png": "[encoded data removed]",
      "text/plain": [
       "<Figure size 500x500 with 1 Axes>"
      ]
     },
     "metadata": {},
     "output_type": "display_data"
    },
    {
     "name": "stdout",
     "output_type": "stream",
     "text": [
      "Skewness: 0.21178974594953856\n"
     ]
    }
   ],
   "source": [
    "\n",
    "#lets check the Distribution of the ISI column\n",
    "plt.figure(figsize=(10, 6))\n",
    "sns.displot(df['ISI'], bins=20,kde=True, color='blue')\n",
    "plt.title('ISI Distribution')\n",
    "plt.show()\n",
    "\n",
    "\n",
    "#Describe the ISI column\n",
    "print(df['ISI'].describe())\n",
    "\n",
    "# Check the Skweness of the ISI column\n",
    "\n",
    "print('Skewness:', df['ISI'].skew())\n",
    "#skewed ISI, lets apply sqrt transformation to reduce the skewness\n",
    "\n",
    "df['ISI'] =np.sqrt(df['ISI'] )\n",
    "\n",
    "#lets check the Distribution of the ISI column\n",
    "plt.figure(figsize=(10, 6))\n",
    "sns.displot(df['ISI'], bins=20,kde=True, color='blue')\n",
    "plt.title('ISI Distribution')\n",
    "plt.show()\n",
    "\n",
    "# Check the Skweness of the ISI column\n",
    "\n",
    "print('Skewness:', df['ISI'].skew())\n",
    "\n"
   ]
  },
  {
   "cell_type": "code",
   "execution_count": 356,
   "metadata": {},
   "outputs": [
    {
     "data": {
      "text/plain": [
       "<Figure size 1000x600 with 0 Axes>"
      ]
     },
     "metadata": {},
     "output_type": "display_data"
    },
    {
     "data": {
      "image/png": "[encoded data removed]",
      "text/plain": [
       "<Figure size 500x500 with 1 Axes>"
      ]
     },
     "metadata": {},
     "output_type": "display_data"
    },
    {
     "name": "stdout",
     "output_type": "stream",
     "text": [
      "Skewness: -0.3118534415397099\n"
     ]
    }
   ],
   "source": [
    "\n",
    "\n",
    "#lets check the Distribution of the temp column\n",
    "plt.figure(figsize=(10, 6))\n",
    "sns.displot(df['temp'], bins=20,kde=True, color='red')\n",
    "plt.title('temp Distribution')\n",
    "plt.show()\n",
    "\n",
    "\n",
    "# Check the Skweness of the temp column\n",
    "\n",
    "print('Skewness:', df['temp'].skew())\n"
   ]
  },
  {
   "cell_type": "code",
   "execution_count": 357,
   "metadata": {},
   "outputs": [
    {
     "data": {
      "text/plain": [
       "<Figure size 1000x600 with 0 Axes>"
      ]
     },
     "metadata": {},
     "output_type": "display_data"
    },
    {
     "data": {
      "image/png": "[encoded data removed]",
      "text/plain": [
       "<Figure size 500x500 with 1 Axes>"
      ]
     },
     "metadata": {},
     "output_type": "display_data"
    },
    {
     "name": "stdout",
     "output_type": "stream",
     "text": [
      "Skewness: 0.9079256762377379\n"
     ]
    }
   ],
   "source": [
    "\n",
    "\n",
    "#lets check the Distribution of the RH column\n",
    "plt.figure(figsize=(10, 6))\n",
    "sns.displot(df['RH'], bins=20,kde=True, color='red')\n",
    "plt.title('RH Distribution')\n",
    "plt.show()\n",
    "\n",
    "\n",
    "# Check the Skweness of the RH column\n",
    "\n",
    "print('Skewness:', df['RH'].skew())\n"
   ]
  },
  {
   "cell_type": "code",
   "execution_count": 358,
   "metadata": {},
   "outputs": [
    {
     "data": {
      "text/plain": [
       "<Figure size 1000x600 with 0 Axes>"
      ]
     },
     "metadata": {},
     "output_type": "display_data"
    },
    {
     "data": {
      "image/png": "[encoded data removed]",
      "text/plain": [
       "<Figure size 500x500 with 1 Axes>"
      ]
     },
     "metadata": {},
     "output_type": "display_data"
    },
    {
     "name": "stdout",
     "output_type": "stream",
     "text": [
      "Skewness: 0.550469972582457\n"
     ]
    }
   ],
   "source": [
    "\n",
    "#lets check the Distribution of the wind column\n",
    "plt.figure(figsize=(10, 6))\n",
    "sns.displot(df['wind'], bins=20,kde=True, color='green')\n",
    "plt.title('wind Distribution')\n",
    "plt.show()\n",
    "\n",
    "\n",
    "# Check the Skweness of the wind column\n",
    "\n",
    "print('Skewness:', df['wind'].skew())\n"
   ]
  },
  {
   "cell_type": "code",
   "execution_count": 359,
   "metadata": {},
   "outputs": [
    {
     "data": {
      "text/plain": [
       "<Figure size 1000x600 with 0 Axes>"
      ]
     },
     "metadata": {},
     "output_type": "display_data"
    },
    {
     "data": {
      "image/png": "[encoded data removed]",
      "text/plain": [
       "<Figure size 500x500 with 1 Axes>"
      ]
     },
     "metadata": {},
     "output_type": "display_data"
    },
    {
     "name": "stdout",
     "output_type": "stream",
     "text": [
      "Skewness: 19.429161327140086\n"
     ]
    }
   ],
   "source": [
    "\n",
    "#lets check the Distribution of the rain column\n",
    "\n",
    "plt.figure(figsize=(10, 6))\n",
    "sns.displot(df['rain'], bins=20,kde=True, color='blue')\n",
    "plt.title('rain Distribution')\n",
    "plt.show()\n",
    "\n",
    "\n",
    "# Check the Skweness of the rain column\n",
    "\n",
    "print('Skewness:', df['rain'].skew())\n"
   ]
  },
  {
   "cell_type": "markdown",
   "metadata": {},
   "source": [
    "### Very skewed, lets apply sqrt transformation to reduce the skewness"
   ]
  },
  {
   "cell_type": "code",
   "execution_count": 360,
   "metadata": {},
   "outputs": [
    {
     "data": {
      "text/plain": [
       "<Figure size 1000x600 with 0 Axes>"
      ]
     },
     "metadata": {},
     "output_type": "display_data"
    },
    {
     "data": {
      "image/png": "[encoded data removed]",
      "text/plain": [
       "<Figure size 500x500 with 1 Axes>"
      ]
     },
     "metadata": {},
     "output_type": "display_data"
    },
    {
     "name": "stdout",
     "output_type": "stream",
     "text": [
      "Skewness: 9.752344202622064\n"
     ]
    },
    {
     "data": {
      "text/html": [
       "<div>\n",
       "<style scoped>\n",
       "    .dataframe tbody tr th:only-of-type {\n",
       "        vertical-align: middle;\n",
       "    }\n",
       "\n",
       "    .dataframe tbody tr th {\n",
       "        vertical-align: top;\n",
       "    }\n",
       "\n",
       "    .dataframe thead th {\n",
       "        text-align: right;\n",
       "    }\n",
       "</style>\n",
       "<table border=\"1\" class=\"dataframe\">\n",
       "  <thead>\n",
       "    <tr style=\"text-align: right;\">\n",
       "      <th></th>\n",
       "      <th>month</th>\n",
       "      <th>FFMC</th>\n",
       "      <th>DMC</th>\n",
       "      <th>DC</th>\n",
       "      <th>ISI</th>\n",
       "      <th>temp</th>\n",
       "      <th>RH</th>\n",
       "      <th>wind</th>\n",
       "      <th>rain</th>\n",
       "      <th>Fire</th>\n",
       "    </tr>\n",
       "  </thead>\n",
       "  <tbody>\n",
       "    <tr>\n",
       "      <th>0</th>\n",
       "      <td>3</td>\n",
       "      <td>86.2</td>\n",
       "      <td>26.2</td>\n",
       "      <td>94.3</td>\n",
       "      <td>2.258318</td>\n",
       "      <td>8.2</td>\n",
       "      <td>51</td>\n",
       "      <td>6.7</td>\n",
       "      <td>-2.302585</td>\n",
       "      <td>0</td>\n",
       "    </tr>\n",
       "    <tr>\n",
       "      <th>1</th>\n",
       "      <td>10</td>\n",
       "      <td>90.6</td>\n",
       "      <td>35.4</td>\n",
       "      <td>669.1</td>\n",
       "      <td>2.588436</td>\n",
       "      <td>18.0</td>\n",
       "      <td>33</td>\n",
       "      <td>0.9</td>\n",
       "      <td>-2.302585</td>\n",
       "      <td>0</td>\n",
       "    </tr>\n",
       "    <tr>\n",
       "      <th>2</th>\n",
       "      <td>10</td>\n",
       "      <td>90.6</td>\n",
       "      <td>43.7</td>\n",
       "      <td>686.9</td>\n",
       "      <td>2.588436</td>\n",
       "      <td>14.6</td>\n",
       "      <td>33</td>\n",
       "      <td>1.3</td>\n",
       "      <td>-2.302585</td>\n",
       "      <td>0</td>\n",
       "    </tr>\n",
       "    <tr>\n",
       "      <th>3</th>\n",
       "      <td>3</td>\n",
       "      <td>91.7</td>\n",
       "      <td>33.3</td>\n",
       "      <td>77.5</td>\n",
       "      <td>3.000000</td>\n",
       "      <td>8.3</td>\n",
       "      <td>97</td>\n",
       "      <td>4.0</td>\n",
       "      <td>-1.203973</td>\n",
       "      <td>0</td>\n",
       "    </tr>\n",
       "    <tr>\n",
       "      <th>4</th>\n",
       "      <td>3</td>\n",
       "      <td>89.3</td>\n",
       "      <td>51.3</td>\n",
       "      <td>102.2</td>\n",
       "      <td>3.098387</td>\n",
       "      <td>11.4</td>\n",
       "      <td>99</td>\n",
       "      <td>1.8</td>\n",
       "      <td>-2.302585</td>\n",
       "      <td>0</td>\n",
       "    </tr>\n",
       "  </tbody>\n",
       "</table>\n",
       "</div>"
      ],
      "text/plain": [
       "   month  FFMC   DMC     DC       ISI  temp  RH  wind      rain  Fire\n",
       "0      3  86.2  26.2   94.3  2.258318   8.2  51   6.7 -2.302585     0\n",
       "1     10  90.6  35.4  669.1  2.588436  18.0  33   0.9 -2.302585     0\n",
       "2     10  90.6  43.7  686.9  2.588436  14.6  33   1.3 -2.302585     0\n",
       "3      3  91.7  33.3   77.5  3.000000   8.3  97   4.0 -1.203973     0\n",
       "4      3  89.3  51.3  102.2  3.098387  11.4  99   1.8 -2.302585     0"
      ]
     },
     "execution_count": 360,
     "metadata": {},
     "output_type": "execute_result"
    }
   ],
   "source": [
    "\n",
    "\n",
    "# try to apply yeo-johnson transformation\n",
    "from scipy.stats import yeojohnson, skew\n",
    "\n",
    "\n",
    "df['rain'] = np.log(df['rain'] + 0.1)\n",
    "\n",
    "\n",
    "#lets check the Distribution of the rain column\n",
    "plt.figure(figsize=(10, 6))\n",
    "sns.displot(df['rain'], bins=20,kde=True, color='blue')\n",
    "plt.title('rain Distribution')\n",
    "plt.show()\n",
    "\n",
    "# Check the Skweness of the rain column\n",
    "\n",
    "print('Skewness:', df['rain'].skew())\n",
    "\n",
    "\n",
    "df.head()"
   ]
  },
  {
   "cell_type": "code",
   "execution_count": 361,
   "metadata": {},
   "outputs": [],
   "source": [
    "X = df.drop('Fire', axis=1)\n",
    "y = df['Fire']"
   ]
  },
  {
   "cell_type": "code",
   "execution_count": 362,
   "metadata": {},
   "outputs": [
    {
     "name": "stdout",
     "output_type": "stream",
     "text": [
      "Accuracy scores for each fold:  [0.61       0.62       0.47474747 0.39393939 0.51515152]\n",
      "Mean cross-validation score:  0.5227676767676768\n",
      "Standard deviation of the scores:  0.08488141737031969\n"
     ]
    }
   ],
   "source": [
    "# RandomForest Model Building and Training \n",
    "\n",
    "from sklearn.ensemble import RandomForestClassifier\n",
    "\n",
    "rf = RandomForestClassifier(n_estimators=100, random_state=42)\n",
    "\n",
    "\n",
    "\n",
    "# Model Evaluation\n",
    "\n",
    "\n",
    "\n",
    "from sklearn.model_selection import cross_val_score\n",
    "\n",
    "\n",
    "# Perform K-Fold cross-validation, typically using 5 or 10 folds\n",
    "scores = cross_val_score(rf, X, y, cv=5)  # You can adjust the number of folds with the cv parameter\n",
    "\n",
    "# Print the results\n",
    "print(\"Accuracy scores for each fold: \", scores)\n",
    "print(\"Mean cross-validation score: \", np.mean(scores))\n",
    "print(\"Standard deviation of the scores: \", np.std(scores))\n"
   ]
  },
  {
   "cell_type": "code",
   "execution_count": 363,
   "metadata": {},
   "outputs": [
    {
     "name": "stdout",
     "output_type": "stream",
     "text": [
      "Accuracy scores for each fold:  [0.54       0.55       0.47474747 0.37373737 0.41414141]\n",
      "Mean cross-validation score:  0.47052525252525257\n",
      "Standard deviation of the scores:  0.06885903556469633\n"
     ]
    }
   ],
   "source": [
    "\n",
    "# Decision Tree Model Building and Training\n",
    "\n",
    "from sklearn.tree import DecisionTreeClassifier\n",
    "\n",
    "dt = DecisionTreeClassifier(random_state=42, )\n",
    "\n",
    "# Perform K-Fold cross-validation, typically using 5 or 10 folds\n",
    "scores = cross_val_score(dt, X, y, cv=5)  # You can adjust the number of folds with the cv parameter\n",
    "\n",
    "# Print the results\n",
    "print(\"Accuracy scores for each fold: \", scores)\n",
    "print(\"Mean cross-validation score: \", np.mean(scores))\n",
    "print(\"Standard deviation of the scores: \", np.std(scores))\n"
   ]
  },
  {
   "cell_type": "code",
   "execution_count": 364,
   "metadata": {},
   "outputs": [
    {
     "name": "stdout",
     "output_type": "stream",
     "text": [
      "Accuracy scores for each fold:  [0.64       0.64       0.65656566 0.64646465 0.50505051]\n",
      "Mean cross-validation score:  0.6176161616161616\n",
      "Standard deviation of the scores:  0.05660812258769747\n"
     ]
    },
    {
     "name": "stderr",
     "output_type": "stream",
     "text": [
      "c:\\Users\\BahaaAY\\AppData\\Local\\Programs\\Python\\Python311\\Lib\\site-packages\\sklearn\\linear_model\\_logistic.py:469: ConvergenceWarning: lbfgs failed to converge (status=1):\n",
      "STOP: TOTAL NO. of ITERATIONS REACHED LIMIT.\n",
      "\n",
      "Increase the number of iterations (max_iter) or scale the data as shown in:\n",
      "    https://scikit-learn.org/stable/modules/preprocessing.html\n",
      "Please also refer to the documentation for alternative solver options:\n",
      "    https://scikit-learn.org/stable/modules/linear_model.html#logistic-regression\n",
      "  n_iter_i = _check_optimize_result(\n"
     ]
    }
   ],
   "source": [
    "\n",
    "# Logistic Regression Model Building and Training\n",
    "\n",
    "from sklearn.linear_model import LogisticRegression\n",
    "\n",
    "lr = LogisticRegression(random_state=42, max_iter=1000)\n",
    "\n",
    "\n",
    "# Perform K-Fold cross-validation, typically using 5 or 10 folds\n",
    "scores = cross_val_score(lr, X, y, cv=5)  # You can adjust the number of folds with the cv parameter\n",
    "\n",
    "# Print the results\n",
    "print(\"Accuracy scores for each fold: \", scores)\n",
    "print(\"Mean cross-validation score: \", np.mean(scores))\n",
    "print(\"Standard deviation of the scores: \", np.std(scores))\n"
   ]
  },
  {
   "cell_type": "code",
   "execution_count": 365,
   "metadata": {},
   "outputs": [
    {
     "name": "stdout",
     "output_type": "stream",
     "text": [
      "Accuracy scores for each fold:  [0.59       0.67       0.45454545 0.42424242 0.50505051]\n",
      "Mean cross-validation score:  0.5287676767676768\n",
      "Standard deviation of the scores:  0.09021412024219015\n"
     ]
    }
   ],
   "source": [
    "\n",
    "# KNN Model Building and Training\n",
    "\n",
    "from sklearn.neighbors import KNeighborsClassifier\n",
    "\n",
    "knn = KNeighborsClassifier(n_neighbors=5)\n",
    "\n",
    "# Perform K-Fold cross-validation, typically using 5 or 10 folds\n",
    "scores = cross_val_score(knn, X, y, cv=5)  # You can adjust the number of folds with the cv parameter\n",
    "\n",
    "# Print the results\n",
    "print(\"Accuracy scores for each fold: \", scores)\n",
    "print(\"Mean cross-validation score: \", np.mean(scores))\n",
    "print(\"Standard deviation of the scores: \", np.std(scores))\n"
   ]
  },
  {
   "cell_type": "code",
   "execution_count": 366,
   "metadata": {},
   "outputs": [
    {
     "name": "stdout",
     "output_type": "stream",
     "text": [
      "Accuracy scores for each fold:  [0.65       0.65       0.65656566 0.64646465 0.64646465]\n",
      "Mean cross-validation score:  0.64989898989899\n",
      "Standard deviation of the scores:  0.0036892893672221395\n"
     ]
    }
   ],
   "source": [
    "\n",
    "# SVM Model Building and Training\n",
    "\n",
    "from sklearn.svm import SVC\n",
    "\n",
    "svm = SVC(random_state=42)\n",
    "\n",
    "# Perform K-Fold cross-validation, typically using 5 or 10 folds\n",
    "scores = cross_val_score(svm, X, y, cv=5)  # You can adjust the number of folds with the cv parameter\n",
    "\n",
    "# Print the results\n",
    "print(\"Accuracy scores for each fold: \", scores)\n",
    "print(\"Mean cross-validation score: \", np.mean(scores))\n",
    "print(\"Standard deviation of the scores: \", np.std(scores))\n"
   ]
  },
  {
   "cell_type": "code",
   "execution_count": 367,
   "metadata": {},
   "outputs": [
    {
     "name": "stdout",
     "output_type": "stream",
     "text": [
      "Accuracy scores for each fold:  [0.6        0.62       0.47474747 0.42424242 0.44444444]\n",
      "Mean cross-validation score:  0.5126868686868686\n",
      "Standard deviation of the scores:  0.08131240604482372\n"
     ]
    }
   ],
   "source": [
    "\n",
    "# Gradient Boosting Model Building and Training\n",
    "\n",
    "from sklearn.ensemble import GradientBoostingClassifier\n",
    "\n",
    "gb = GradientBoostingClassifier(n_estimators=100, random_state=42)\n",
    "\n",
    "# Perform K-Fold cross-validation, typically using 5 or 10 folds\n",
    "scores = cross_val_score(gb, X, y, cv=5)  # You can adjust the number of folds with the cv parameter\n",
    "\n",
    "# Print the results\n",
    "print(\"Accuracy scores for each fold: \", scores)\n",
    "print(\"Mean cross-validation score: \", np.mean(scores))\n",
    "print(\"Standard deviation of the scores: \", np.std(scores))\n"
   ]
  },
  {
   "cell_type": "code",
   "execution_count": 368,
   "metadata": {},
   "outputs": [
    {
     "name": "stdout",
     "output_type": "stream",
     "text": [
      "Accuracy scores for each fold:  [0.55       0.61       0.41414141 0.41414141 0.37373737]\n",
      "Mean cross-validation score:  0.47240404040404044\n",
      "Standard deviation of the scores:  0.09108013986802918\n"
     ]
    }
   ],
   "source": [
    "\n",
    "# XGBoost Model Building and Training\n",
    "\n",
    "from xgboost import XGBClassifier\n",
    "\n",
    "xgb = XGBClassifier(n_estimators=100, random_state=42)\n",
    "\n",
    "# Perform K-Fold cross-validation, typically using 5 or 10 folds\n",
    "scores = cross_val_score(xgb, X, y, cv=5)  # You can adjust the number of folds with the cv parameter\n",
    "\n",
    "# Print the results\n",
    "print(\"Accuracy scores for each fold: \", scores)\n",
    "print(\"Mean cross-validation score: \", np.mean(scores))\n",
    "print(\"Standard deviation of the scores: \", np.std(scores))\n"
   ]
  },
  {
   "cell_type": "code",
   "execution_count": 369,
   "metadata": {},
   "outputs": [
    {
     "name": "stdout",
     "output_type": "stream",
     "text": [
      "Accuracy scores for each fold:  [0.59       0.61       0.44444444 0.43434343 0.48484848]\n",
      "Mean cross-validation score:  0.5127272727272727\n",
      "Standard deviation of the scores:  0.07350762603011475\n"
     ]
    }
   ],
   "source": [
    "\n",
    "# Bagging Model Building and Training\n",
    "\n",
    "from sklearn.ensemble import BaggingClassifier\n",
    "\n",
    "bag = BaggingClassifier(n_estimators=100, random_state=42)\n",
    "\n",
    "# Perform K-Fold cross-validation, typically using 5 or 10 folds\n",
    "scores = cross_val_score(bag, X, y, cv=5)  # You can adjust the number of folds with the cv parameter\n",
    "\n",
    "# Print the results\n",
    "print(\"Accuracy scores for each fold: \", scores)\n",
    "print(\"Mean cross-validation score: \", np.mean(scores))\n",
    "print(\"Standard deviation of the scores: \", np.std(scores))\n"
   ]
  },
  {
   "cell_type": "code",
   "execution_count": 370,
   "metadata": {},
   "outputs": [
    {
     "name": "stdout",
     "output_type": "stream",
     "text": [
      "Accuracy scores for each fold:  [0.42       0.56       0.52525253 0.61616162 0.39393939]\n",
      "Mean cross-validation score:  0.5030707070707071\n",
      "Standard deviation of the scores:  0.08406297288257261\n"
     ]
    }
   ],
   "source": [
    "\n",
    "# Naive Bayes Model Building and Training\n",
    "\n",
    "from sklearn.naive_bayes import GaussianNB\n",
    "\n",
    "nb = GaussianNB()\n",
    "\n",
    "\n",
    "# Perform K-Fold cross-validation, typically using 5 or 10 folds\n",
    "scores = cross_val_score(nb, X, y, cv=5)  # You can adjust the number of folds with the cv parameter\n",
    "\n",
    "# Print the results\n",
    "print(\"Accuracy scores for each fold: \", scores)\n",
    "print(\"Mean cross-validation score: \", np.mean(scores))\n",
    "print(\"Standard deviation of the scores: \", np.std(scores))\n"
   ]
  },
  {
   "cell_type": "code",
   "execution_count": 371,
   "metadata": {},
   "outputs": [
    {
     "name": "stdout",
     "output_type": "stream",
     "text": [
      "[Voting] ....................... (1 of 8) Processing rf, total=   0.2s\n",
      "[Voting] ....................... (2 of 8) Processing dt, total=   0.0s\n",
      "[Voting] ....................... (3 of 8) Processing lr, total=   0.1s\n",
      "[Voting] ...................... (4 of 8) Processing knn, total=   0.0s\n",
      "[Voting] ....................... (5 of 8) Processing gb, total=   0.2s\n",
      "[Voting] ...................... (6 of 8) Processing xgb, total=   0.1s\n",
      "[Voting] ...................... (7 of 8) Processing bag, total=   0.3s\n",
      "[Voting] ....................... (8 of 8) Processing nb, total=   0.0s\n",
      "[Voting] ....................... (1 of 8) Processing rf, total=   0.2s\n",
      "[Voting] ....................... (2 of 8) Processing dt, total=   0.0s\n",
      "[Voting] ....................... (3 of 8) Processing lr, total=   0.1s\n",
      "[Voting] ...................... (4 of 8) Processing knn, total=   0.0s\n",
      "[Voting] ....................... (5 of 8) Processing gb, total=   0.2s\n",
      "[Voting] ...................... (6 of 8) Processing xgb, total=   0.1s\n",
      "[Voting] ...................... (7 of 8) Processing bag, total=   0.4s\n",
      "[Voting] ....................... (8 of 8) Processing nb, total=   0.0s\n",
      "[Voting] ....................... (1 of 8) Processing rf, total=   0.2s\n",
      "[Voting] ....................... (2 of 8) Processing dt, total=   0.0s\n",
      "[Voting] ....................... (3 of 8) Processing lr, total=   0.1s\n",
      "[Voting] ...................... (4 of 8) Processing knn, total=   0.0s\n",
      "[Voting] ....................... (5 of 8) Processing gb, total=   0.2s\n",
      "[Voting] ...................... (6 of 8) Processing xgb, total=   0.1s\n",
      "[Voting] ...................... (7 of 8) Processing bag, total=   0.3s\n",
      "[Voting] ....................... (8 of 8) Processing nb, total=   0.0s\n",
      "[Voting] ....................... (1 of 8) Processing rf, total=   0.2s\n",
      "[Voting] ....................... (2 of 8) Processing dt, total=   0.0s\n",
      "[Voting] ....................... (3 of 8) Processing lr, total=   0.1s\n",
      "[Voting] ...................... (4 of 8) Processing knn, total=   0.0s\n",
      "[Voting] ....................... (5 of 8) Processing gb, total=   0.1s\n",
      "[Voting] ...................... (6 of 8) Processing xgb, total=   0.1s\n",
      "[Voting] ...................... (7 of 8) Processing bag, total=   0.3s\n",
      "[Voting] ....................... (8 of 8) Processing nb, total=   0.0s\n",
      "[Voting] ....................... (1 of 8) Processing rf, total=   0.2s\n",
      "[Voting] ....................... (2 of 8) Processing dt, total=   0.0s\n",
      "[Voting] ....................... (3 of 8) Processing lr, total=   0.1s\n",
      "[Voting] ...................... (4 of 8) Processing knn, total=   0.0s\n"
     ]
    },
    {
     "name": "stderr",
     "output_type": "stream",
     "text": [
      "c:\\Users\\BahaaAY\\AppData\\Local\\Programs\\Python\\Python311\\Lib\\site-packages\\sklearn\\linear_model\\_logistic.py:469: ConvergenceWarning: lbfgs failed to converge (status=1):\n",
      "STOP: TOTAL NO. of ITERATIONS REACHED LIMIT.\n",
      "\n",
      "Increase the number of iterations (max_iter) or scale the data as shown in:\n",
      "    https://scikit-learn.org/stable/modules/preprocessing.html\n",
      "Please also refer to the documentation for alternative solver options:\n",
      "    https://scikit-learn.org/stable/modules/linear_model.html#logistic-regression\n",
      "  n_iter_i = _check_optimize_result(\n"
     ]
    },
    {
     "name": "stdout",
     "output_type": "stream",
     "text": [
      "[Voting] ....................... (5 of 8) Processing gb, total=   0.2s\n",
      "[Voting] ...................... (6 of 8) Processing xgb, total=   0.1s\n",
      "[Voting] ...................... (7 of 8) Processing bag, total=   0.3s\n",
      "[Voting] ....................... (8 of 8) Processing nb, total=   0.0s\n",
      "Accuracy scores for each fold:  [0.59       0.6        0.46464646 0.4040404  0.42424242]\n",
      "Mean cross-validation score:  0.4965858585858586\n",
      "Standard deviation of the scores:  0.08275148940702955\n"
     ]
    }
   ],
   "source": [
    "\n",
    "# Voting Model Building and Training\n",
    "\n",
    "from sklearn.ensemble import VotingClassifier\n",
    "\n",
    "voting = VotingClassifier(estimators=[\n",
    "    ('rf', rf),\n",
    "    ('dt', dt),\n",
    "    ('lr', lr),\n",
    "    ('knn', knn),\n",
    "    ('gb', gb),\n",
    "    ('xgb', xgb),\n",
    "    ('bag', bag),\n",
    "    ('nb', nb),\n",
    "    ], voting='soft', verbose=True)\n",
    "\n",
    "\n",
    "# Perform K-Fold cross-validation, typically using 5 or 10 folds\n",
    "scores = cross_val_score(voting, X, y, cv=5)  # You can adjust the number of folds with the cv parameter\n",
    "\n",
    "# Print the results\n",
    "print(\"Accuracy scores for each fold: \", scores)\n",
    "print(\"Mean cross-validation score: \", np.mean(scores))\n",
    "print(\"Standard deviation of the scores: \", np.std(scores))\n",
    "\n"
   ]
  },
  {
   "cell_type": "code",
   "execution_count": 372,
   "metadata": {},
   "outputs": [
    {
     "ename": "KeyboardInterrupt",
     "evalue": "",
     "output_type": "error",
     "traceback": [
      "\u001b[1;31m---------------------------------------------------------------------------\u001b[0m",
      "\u001b[1;31mKeyboardInterrupt\u001b[0m                         Traceback (most recent call last)",
      "Cell \u001b[1;32mIn[372], line 30\u001b[0m\n\u001b[0;32m     27\u001b[0m     \u001b[38;5;28;01mreturn\u001b[39;00m {\u001b[38;5;124m'\u001b[39m\u001b[38;5;124mnames\u001b[39m\u001b[38;5;124m'\u001b[39m: names, \u001b[38;5;124m'\u001b[39m\u001b[38;5;124mmean_score\u001b[39m\u001b[38;5;124m'\u001b[39m: mean_score, \u001b[38;5;124m'\u001b[39m\u001b[38;5;124mscores\u001b[39m\u001b[38;5;124m'\u001b[39m: scores, \u001b[38;5;124m'\u001b[39m\u001b[38;5;124mstd_dev\u001b[39m\u001b[38;5;124m'\u001b[39m: std_dev}\n\u001b[0;32m     29\u001b[0m \u001b[38;5;66;03m# Using joblib's Parallel and delayed to handle multiprocessing\u001b[39;00m\n\u001b[1;32m---> 30\u001b[0m results \u001b[38;5;241m=\u001b[39m \u001b[43mParallel\u001b[49m\u001b[43m(\u001b[49m\u001b[43mn_jobs\u001b[49m\u001b[38;5;241;43m=\u001b[39;49m\u001b[38;5;241;43m-\u001b[39;49m\u001b[38;5;241;43m1\u001b[39;49m\u001b[43m)\u001b[49m\u001b[43m(\u001b[49m\n\u001b[0;32m     31\u001b[0m \u001b[43m    \u001b[49m\u001b[43mdelayed\u001b[49m\u001b[43m(\u001b[49m\u001b[43mevaluate_combination\u001b[49m\u001b[43m)\u001b[49m\u001b[43m(\u001b[49m\u001b[43mcombo\u001b[49m\u001b[43m)\u001b[49m\n\u001b[0;32m     32\u001b[0m \u001b[43m    \u001b[49m\u001b[38;5;28;43;01mfor\u001b[39;49;00m\u001b[43m \u001b[49m\u001b[43msize\u001b[49m\u001b[43m \u001b[49m\u001b[38;5;129;43;01min\u001b[39;49;00m\u001b[43m \u001b[49m\u001b[38;5;28;43mrange\u001b[39;49m\u001b[43m(\u001b[49m\u001b[38;5;241;43m1\u001b[39;49m\u001b[43m,\u001b[49m\u001b[43m \u001b[49m\u001b[38;5;28;43mlen\u001b[39;49m\u001b[43m(\u001b[49m\u001b[43mclassifiers\u001b[49m\u001b[43m)\u001b[49m\u001b[43m \u001b[49m\u001b[38;5;241;43m+\u001b[39;49m\u001b[43m \u001b[49m\u001b[38;5;241;43m1\u001b[39;49m\u001b[43m)\u001b[49m\u001b[43m  \u001b[49m\u001b[38;5;66;43;03m# Now starting from 1 to include single classifiers\u001b[39;49;00m\n\u001b[0;32m     33\u001b[0m \u001b[43m    \u001b[49m\u001b[38;5;28;43;01mfor\u001b[39;49;00m\u001b[43m \u001b[49m\u001b[43mcombo\u001b[49m\u001b[43m \u001b[49m\u001b[38;5;129;43;01min\u001b[39;49;00m\u001b[43m \u001b[49m\u001b[43mitertools\u001b[49m\u001b[38;5;241;43m.\u001b[39;49m\u001b[43mcombinations\u001b[49m\u001b[43m(\u001b[49m\u001b[43mclassifiers\u001b[49m\u001b[38;5;241;43m.\u001b[39;49m\u001b[43mitems\u001b[49m\u001b[43m(\u001b[49m\u001b[43m)\u001b[49m\u001b[43m,\u001b[49m\u001b[43m \u001b[49m\u001b[43msize\u001b[49m\u001b[43m)\u001b[49m\n\u001b[0;32m     34\u001b[0m \u001b[43m)\u001b[49m\n\u001b[0;32m     36\u001b[0m \u001b[38;5;66;03m# Sort results by mean score in descending order\u001b[39;00m\n\u001b[0;32m     37\u001b[0m sorted_results \u001b[38;5;241m=\u001b[39m \u001b[38;5;28msorted\u001b[39m(results, key\u001b[38;5;241m=\u001b[39m\u001b[38;5;28;01mlambda\u001b[39;00m x: x[\u001b[38;5;124m'\u001b[39m\u001b[38;5;124mmean_score\u001b[39m\u001b[38;5;124m'\u001b[39m], reverse\u001b[38;5;241m=\u001b[39m\u001b[38;5;28;01mTrue\u001b[39;00m)\n",
      "File \u001b[1;32mc:\\Users\\BahaaAY\\AppData\\Local\\Programs\\Python\\Python311\\Lib\\site-packages\\joblib\\parallel.py:1952\u001b[0m, in \u001b[0;36mParallel.__call__\u001b[1;34m(self, iterable)\u001b[0m\n\u001b[0;32m   1946\u001b[0m \u001b[38;5;66;03m# The first item from the output is blank, but it makes the interpreter\u001b[39;00m\n\u001b[0;32m   1947\u001b[0m \u001b[38;5;66;03m# progress until it enters the Try/Except block of the generator and\u001b[39;00m\n\u001b[0;32m   1948\u001b[0m \u001b[38;5;66;03m# reach the first `yield` statement. This starts the aynchronous\u001b[39;00m\n\u001b[0;32m   1949\u001b[0m \u001b[38;5;66;03m# dispatch of the tasks to the workers.\u001b[39;00m\n\u001b[0;32m   1950\u001b[0m \u001b[38;5;28mnext\u001b[39m(output)\n\u001b[1;32m-> 1952\u001b[0m \u001b[38;5;28;01mreturn\u001b[39;00m output \u001b[38;5;28;01mif\u001b[39;00m \u001b[38;5;28mself\u001b[39m\u001b[38;5;241m.\u001b[39mreturn_generator \u001b[38;5;28;01melse\u001b[39;00m \u001b[38;5;28mlist\u001b[39m(output)\n",
      "File \u001b[1;32mc:\\Users\\BahaaAY\\AppData\\Local\\Programs\\Python\\Python311\\Lib\\site-packages\\joblib\\parallel.py:1595\u001b[0m, in \u001b[0;36mParallel._get_outputs\u001b[1;34m(self, iterator, pre_dispatch)\u001b[0m\n\u001b[0;32m   1592\u001b[0m     \u001b[38;5;28;01myield\u001b[39;00m\n\u001b[0;32m   1594\u001b[0m     \u001b[38;5;28;01mwith\u001b[39;00m \u001b[38;5;28mself\u001b[39m\u001b[38;5;241m.\u001b[39m_backend\u001b[38;5;241m.\u001b[39mretrieval_context():\n\u001b[1;32m-> 1595\u001b[0m         \u001b[38;5;28;01myield from\u001b[39;00m \u001b[38;5;28mself\u001b[39m\u001b[38;5;241m.\u001b[39m_retrieve()\n\u001b[0;32m   1597\u001b[0m \u001b[38;5;28;01mexcept\u001b[39;00m \u001b[38;5;167;01mGeneratorExit\u001b[39;00m:\n\u001b[0;32m   1598\u001b[0m     \u001b[38;5;66;03m# The generator has been garbage collected before being fully\u001b[39;00m\n\u001b[0;32m   1599\u001b[0m     \u001b[38;5;66;03m# consumed. This aborts the remaining tasks if possible and warn\u001b[39;00m\n\u001b[0;32m   1600\u001b[0m     \u001b[38;5;66;03m# the user if necessary.\u001b[39;00m\n\u001b[0;32m   1601\u001b[0m     \u001b[38;5;28mself\u001b[39m\u001b[38;5;241m.\u001b[39m_exception \u001b[38;5;241m=\u001b[39m \u001b[38;5;28;01mTrue\u001b[39;00m\n",
      "File \u001b[1;32mc:\\Users\\BahaaAY\\AppData\\Local\\Programs\\Python\\Python311\\Lib\\site-packages\\joblib\\parallel.py:1707\u001b[0m, in \u001b[0;36mParallel._retrieve\u001b[1;34m(self)\u001b[0m\n\u001b[0;32m   1702\u001b[0m \u001b[38;5;66;03m# If the next job is not ready for retrieval yet, we just wait for\u001b[39;00m\n\u001b[0;32m   1703\u001b[0m \u001b[38;5;66;03m# async callbacks to progress.\u001b[39;00m\n\u001b[0;32m   1704\u001b[0m \u001b[38;5;28;01mif\u001b[39;00m ((\u001b[38;5;28mlen\u001b[39m(\u001b[38;5;28mself\u001b[39m\u001b[38;5;241m.\u001b[39m_jobs) \u001b[38;5;241m==\u001b[39m \u001b[38;5;241m0\u001b[39m) \u001b[38;5;129;01mor\u001b[39;00m\n\u001b[0;32m   1705\u001b[0m     (\u001b[38;5;28mself\u001b[39m\u001b[38;5;241m.\u001b[39m_jobs[\u001b[38;5;241m0\u001b[39m]\u001b[38;5;241m.\u001b[39mget_status(\n\u001b[0;32m   1706\u001b[0m         timeout\u001b[38;5;241m=\u001b[39m\u001b[38;5;28mself\u001b[39m\u001b[38;5;241m.\u001b[39mtimeout) \u001b[38;5;241m==\u001b[39m TASK_PENDING)):\n\u001b[1;32m-> 1707\u001b[0m     time\u001b[38;5;241m.\u001b[39msleep(\u001b[38;5;241m0.01\u001b[39m)\n\u001b[0;32m   1708\u001b[0m     \u001b[38;5;28;01mcontinue\u001b[39;00m\n\u001b[0;32m   1710\u001b[0m \u001b[38;5;66;03m# We need to be careful: the job list can be filling up as\u001b[39;00m\n\u001b[0;32m   1711\u001b[0m \u001b[38;5;66;03m# we empty it and Python list are not thread-safe by\u001b[39;00m\n\u001b[0;32m   1712\u001b[0m \u001b[38;5;66;03m# default hence the use of the lock\u001b[39;00m\n",
      "\u001b[1;31mKeyboardInterrupt\u001b[0m: "
     ]
    }
   ],
   "source": [
    "\n",
    "\n",
    "\n",
    "# import itertools\n",
    "# from joblib import Parallel, delayed\n",
    "\n",
    "# # Assume rf, dt, lr, knn, gb, xgb, bag, nb are already defined as classifiers.\n",
    "# classifiers = {\n",
    "#     'rf': rf,\n",
    "#     'dt': dt,\n",
    "#     'lr': lr,\n",
    "#     'knn': knn,\n",
    "#     'gb': gb,\n",
    "#     'xgb': xgb,\n",
    "#     'bag': bag,\n",
    "#     'nb': nb\n",
    "# }\n",
    "\n",
    "# def evaluate_combination(combo):\n",
    "#     # Check if the combo is a tuple (single classifier case)\n",
    "#     if isinstance(combo[0], tuple):\n",
    "#         names, models = zip(*combo)\n",
    "#     else:\n",
    "#         names, models = (combo[0],), (combo[1],)  # single classifier\n",
    "    \n",
    "#     voting = VotingClassifier(estimators=list(zip(names, models)), voting='hard', verbose=True)\n",
    "#     scores = cross_val_score(voting, X, y, cv=5)\n",
    "#     mean_score = np.mean(scores)\n",
    "#     std_dev = np.std(scores)\n",
    "#     return {'names': names, 'mean_score': mean_score, 'scores': scores, 'std_dev': std_dev}\n",
    "\n",
    "# # Using joblib's Parallel and delayed to handle multiprocessing\n",
    "# results = Parallel(n_jobs=-1)(\n",
    "#     delayed(evaluate_combination)(combo)\n",
    "#     for size in range(1, len(classifiers) + 1)  # Now starting from 1 to include single classifiers\n",
    "#     for combo in itertools.combinations(classifiers.items(), size)\n",
    "# )\n",
    "\n",
    "# # Sort results by mean score in descending order\n",
    "# sorted_results = sorted(results, key=lambda x: x['mean_score'], reverse=True)\n",
    "\n",
    "# # Print sorted results\n",
    "# for result in sorted_results:\n",
    "#     print(f\"Combination: {', '.join(result['names'])}\")\n",
    "#     print(f\"Accuracy scores for each fold: {result['scores']}\")\n",
    "#     print(f\"Mean cross-validation score: {result['mean_score']}\")\n",
    "#     print(f\"Standard deviation of the scores: {result['std_dev']}\")\n",
    "#     print()\n",
    "\n",
    "# # Optionally, print the best combination directly from the sorted list\n",
    "# if sorted_results:\n",
    "#     best_result = sorted_results[0]\n",
    "#     print(f\"Best combination: {', '.join(best_result['names'])}\")\n",
    "#     print(f\"Best mean cross-validation score: {best_result['mean_score']}\")\n"
   ]
  },
  {
   "cell_type": "code",
   "execution_count": null,
   "metadata": {},
   "outputs": [],
   "source": [
    "\n",
    "\n",
    "#### We Choose the Combination: rf, knn, xgb that has the Highest Mean CV Score\n",
    "# Train the best model\n",
    "\n",
    "# Voting Model Building and Training\n",
    "\n",
    "# best_voting = VotingClassifier(estimators=[\n",
    "#     ('rf', rf),\n",
    "#     ('knn', knn),\n",
    "#     ('xgb', xgb),\n",
    "#     ], voting='hard', verbose=True)\n",
    "\n",
    "# # Fit the model using the whole dataset\n",
    "\n",
    "# best_voting.fit(X, y)\n",
    "\n",
    "# from joblib import dump\n",
    "\n",
    "\n",
    "# dump(best_voting, 'voting_classifier.joblib')\n",
    "\n"
   ]
  }
 ],
 "metadata": {
  "kernelspec": {
   "display_name": "Python 3",
   "language": "python",
   "name": "python3"
  },
  "language_info": {
   "codemirror_mode": {
    "name": "ipython",
    "version": 3
   },
   "file_extension": ".py",
   "mimetype": "text/x-python",
   "name": "python",
   "nbconvert_exporter": "python",
   "pygments_lexer": "ipython3",
   "version": "3.11.4"
  }
 },
 "nbformat": 4,
 "nbformat_minor": 2
}
